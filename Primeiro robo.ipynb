{
 "metadata": {
  "language_info": {
   "codemirror_mode": {
    "name": "ipython",
    "version": 3
   },
   "file_extension": ".py",
   "mimetype": "text/x-python",
   "name": "python",
   "nbconvert_exporter": "python",
   "pygments_lexer": "ipython3",
   "version": "3.8.5"
  },
  "orig_nbformat": 2,
  "kernelspec": {
   "name": "python3",
   "display_name": "Python 3.8.5 64-bit ('base': conda)",
   "metadata": {
    "interpreter": {
     "hash": "724fa9851ab0f3c363ea6c751f3ea040b48988fb5067ff51ac6e585b29d3905f"
    }
   }
  }
 },
 "nbformat": 4,
 "nbformat_minor": 2,
 "cells": [
  {
   "source": [
    "# CRIANDO O PRIMEIRO ROBÔ"
   ],
   "cell_type": "markdown",
   "metadata": {}
  },
  {
   "cell_type": "code",
   "execution_count": null,
   "metadata": {},
   "outputs": [],
   "source": [
    "import pandas as pd \n",
    "import\tnumpy as np\n",
    "import MetaTrader5 as mt5 \n",
    "import functions as fc \n",
    "import datetime\n",
    "import time\n",
    "from func_meta import extrair_base, trade"
   ]
  },
  {
   "cell_type": "code",
   "execution_count": null,
   "metadata": {},
   "outputs": [],
   "source": [
    "ativo = ['PETR4','BIDI4']\n",
    "data = extrair_base(ativo,'M1', 1000)\n",
    "data"
   ]
  },
  {
   "cell_type": "code",
   "execution_count": null,
   "metadata": {},
   "outputs": [],
   "source": [
    "ativos = ['PETR4']\n",
    "data = extrair_base(ativos, 'M1', 100)\n",
    "data['MMA_17'] = data['PETR4'].rolling(21).mean()\n",
    "data['MMA_34'] = data['PETR4'].rolling(34).mean()\n",
    "data"
   ]
  },
  {
   "source": [
    "### Executando ordens"
   ],
   "cell_type": "markdown",
   "metadata": {}
  },
  {
   "cell_type": "code",
   "execution_count": null,
   "metadata": {},
   "outputs": [],
   "source": [
    "trade('compra','PETR4', 400)"
   ]
  },
  {
   "cell_type": "code",
   "execution_count": 5,
   "metadata": {},
   "outputs": [],
   "source": [
    "hora_inicio = '12:15:00'\n",
    "hora_final = '14:00:00'"
   ]
  },
  {
   "cell_type": "code",
   "execution_count": 6,
   "metadata": {},
   "outputs": [
    {
     "output_type": "stream",
     "name": "stdout",
     "text": [
      "Bora Operar!! 13:58:59\n",
      "Inicialização concluida!\n",
      "Ordem ENVIADA! : Foi efetuada uma compra de 500.0 de PETR4 a 27.49 com desvio de 20 pontos\n",
      "Inicialização concluida!\n",
      "CIEL3 não está visível, tentando ligar...\n",
      "Ordem ENVIADA! : Foi efetuada uma venda de 500.0 de CIEL3 a 0.0 com desvio de 20 pontos\n",
      "Inicialização concluida!\n",
      "Ordem ENVIADA! : Foi efetuada uma compra de 500.0 de CIEL3 a 3.56 com desvio de 20 pontos\n",
      "Inicialização concluida!\n",
      "Ordem ENVIADA! : Foi efetuada uma venda de 500.0 de PETR4 a 27.48 com desvio de 20 pontos\n",
      "Bora Operar!! 13:59:42\n",
      "Inicialização concluida!\n",
      "Ordem ENVIADA! : Foi efetuada uma compra de 500.0 de PETR4 a 27.51 com desvio de 20 pontos\n",
      "Inicialização concluida!\n",
      "Ordem ENVIADA! : Foi efetuada uma venda de 500.0 de CIEL3 a 3.56 com desvio de 20 pontos\n",
      "Inicialização concluida!\n",
      "Ordem ENVIADA! : Foi efetuada uma compra de 500.0 de CIEL3 a 3.57 com desvio de 20 pontos\n",
      "Inicialização concluida!\n",
      "Ordem ENVIADA! : Foi efetuada uma venda de 500.0 de PETR4 a 27.48 com desvio de 20 pontos\n",
      "O mercado está fechado, bora tomar uma caipirinha!\n"
     ]
    }
   ],
   "source": [
    "while True:\n",
    "    hora_atual = time.strftime('%H:%M:%S', time.localtime())\n",
    "    if (hora_atual > hora_inicio) and (hora_atual < hora_final):\n",
    "        print('Bora Operar!! '+hora_atual)\n",
    "        trade('compra','PETR4', 500)\n",
    "        time.sleep(10)\n",
    "        trade('venda','CIEL3', 500)\n",
    "        time.sleep(10)\n",
    "        trade('compra','CIEL3', 500)\n",
    "        time.sleep(10)\n",
    "        trade('venda','PETR4', 500)\n",
    "        time.sleep(10)\n",
    "    else:\n",
    "        print('O mercado está fechado, bora tomar uma caipirinha!')\n",
    "        break\n"
   ]
  },
  {
   "cell_type": "code",
   "execution_count": null,
   "metadata": {},
   "outputs": [],
   "source": []
  }
 ]
}